{
 "cells": [
  {
   "cell_type": "code",
   "execution_count": 1,
   "id": "08bc7eeb",
   "metadata": {
    "scrolled": true
   },
   "outputs": [],
   "source": [
    "import warnings \n",
    "warnings.filterwarnings('ignore')\n",
    "\n",
    "import pandas as pd\n",
    "import numpy as np\n",
    "import re\n",
    "\n",
    "from nltk.tokenize import word_tokenize\n",
    "from nltk.corpus import stopwords\n",
    "from nltk.stem.snowball import SnowballStemmer\n",
    "from cleantext import clean\n",
    "\n",
    "from sklearn.linear_model import LogisticRegression\n",
    "from sklearn.metrics import accuracy_score\n",
    "from sklearn.model_selection import cross_val_score\n",
    "from sklearn.feature_extraction.text import TfidfVectorizer"
   ]
  },
  {
   "cell_type": "markdown",
   "id": "b53673a4",
   "metadata": {},
   "source": [
    "### Uploading data"
   ]
  },
  {
   "cell_type": "code",
   "execution_count": 2,
   "id": "da5997e2",
   "metadata": {},
   "outputs": [],
   "source": [
    "train = pd.read_csv('public_data/train_data.csv')\n",
    "train_solution = pd.read_csv('public_data/train_solution.csv')\n",
    "train['category'] = train_solution['category']\n",
    "test = pd.read_csv('public_data/test_data.csv')\n",
    "subm = pd.read_csv('public_data/sample_submission.csv')"
   ]
  },
  {
   "cell_type": "markdown",
   "id": "6e00aa34",
   "metadata": {},
   "source": [
    "Также загрузим дополнительные данные из телеграма (парсинг) и большой датасет из kaggle с текстами разной тематики."
   ]
  },
  {
   "cell_type": "code",
   "execution_count": 3,
   "id": "0c14a4c9",
   "metadata": {},
   "outputs": [],
   "source": [
    "ad = pd.read_csv('public_data/tg.csv').dropna().drop(columns=['Unnamed: 0'])\n",
    "bloggers = pd.read_csv('public_data/blogtext.csv')"
   ]
  },
  {
   "cell_type": "markdown",
   "id": "04ca02e2",
   "metadata": {},
   "source": [
    "В датасете kaggle есть темы, которые подходят нам, поэтому срежем объекты по темам Fashion и Communications-Media, и добавим их для расширения выборки."
   ]
  },
  {
   "cell_type": "code",
   "execution_count": 4,
   "id": "350289a5",
   "metadata": {},
   "outputs": [],
   "source": [
    "fashion = pd.DataFrame(bloggers[(bloggers['topic'] == 'Fashion') | \n",
    "                               (bloggers['topic'] == 'Communications-Media')]['text']).rename(columns={'text': 'message'})\n",
    "fashion['category'] = 2 "
   ]
  },
  {
   "cell_type": "code",
   "execution_count": 5,
   "id": "42994264",
   "metadata": {},
   "outputs": [
    {
     "data": {
      "text/plain": [
       "(681284, 7)"
      ]
     },
     "execution_count": 5,
     "metadata": {},
     "output_type": "execute_result"
    }
   ],
   "source": [
    "bloggers.shape"
   ]
  },
  {
   "cell_type": "markdown",
   "id": "36e950cd",
   "metadata": {},
   "source": [
    "Склеим все данные для трейна."
   ]
  },
  {
   "cell_type": "code",
   "execution_count": 6,
   "id": "d6ebd2c0",
   "metadata": {},
   "outputs": [],
   "source": [
    "train_tg = pd.concat([train, ad, fashion], ignore_index=True, axis=0)\n",
    "y_train_tg = train_tg.category"
   ]
  },
  {
   "cell_type": "code",
   "execution_count": 7,
   "id": "88263579",
   "metadata": {},
   "outputs": [
    {
     "data": {
      "text/plain": [
       "(55365, 3)"
      ]
     },
     "execution_count": 7,
     "metadata": {},
     "output_type": "execute_result"
    }
   ],
   "source": [
    "train_tg.shape"
   ]
  },
  {
   "cell_type": "markdown",
   "id": "a89a1311",
   "metadata": {},
   "source": [
    "Посмотрим на баланс классов"
   ]
  },
  {
   "cell_type": "code",
   "execution_count": 8,
   "id": "61986db7",
   "metadata": {
    "scrolled": false
   },
   "outputs": [
    {
     "data": {
      "text/plain": [
       "2.0    0.491863\n",
       "0.0    0.334634\n",
       "1.0    0.173503\n",
       "Name: category, dtype: float64"
      ]
     },
     "execution_count": 8,
     "metadata": {},
     "output_type": "execute_result"
    }
   ],
   "source": [
    "train_tg.category.value_counts() / train_tg.shape[0]"
   ]
  },
  {
   "cell_type": "markdown",
   "id": "d182d96a",
   "metadata": {},
   "source": [
    "### TF-IDF"
   ]
  },
  {
   "cell_type": "markdown",
   "id": "323a6c09",
   "metadata": {},
   "source": [
    "Сделаем самое банальное: обучим логрег на tf-idf представлениях предложений:"
   ]
  },
  {
   "cell_type": "code",
   "execution_count": 9,
   "id": "6aef6fb7",
   "metadata": {},
   "outputs": [],
   "source": [
    "sw = stopwords.words('english')\n",
    "\n",
    "def my_tok_and_clean(x):\n",
    "    a = word_tokenize(clean(x, no_urls=True, no_digits=True, no_punct=True, no_line_breaks=True, no_numbers=True,\n",
    "             no_emoji=True))\n",
    "    return [w for w in a if w not in sw]"
   ]
  },
  {
   "cell_type": "code",
   "execution_count": 10,
   "id": "06b966b6",
   "metadata": {},
   "outputs": [],
   "source": [
    "vectorizer = TfidfVectorizer(tokenizer=my_tok_and_clean, max_features=5000, stop_words=sw, ngram_range=(1, 1))\n",
    "tfidf_train = vectorizer.fit_transform(train_tg['message'])\n",
    "tfidf_test = vectorizer.transform(test['message'])"
   ]
  },
  {
   "cell_type": "code",
   "execution_count": 11,
   "id": "e5c5ecb3",
   "metadata": {},
   "outputs": [
    {
     "data": {
      "text/plain": [
       "0.915163009121286"
      ]
     },
     "execution_count": 11,
     "metadata": {},
     "output_type": "execute_result"
    }
   ],
   "source": [
    "np.mean(cross_val_score(LogisticRegression(random_state=10), tfidf_train, \n",
    "                        y_train_tg, cv=5, scoring='accuracy'))"
   ]
  },
  {
   "cell_type": "markdown",
   "id": "bcb4a272",
   "metadata": {},
   "source": [
    "Удивительно, но такой \"тупой\" подход выдает 0.82-0.83 на тесте."
   ]
  },
  {
   "cell_type": "markdown",
   "id": "7166a7df",
   "metadata": {},
   "source": [
    "### Saving test predictions for submossion"
   ]
  },
  {
   "cell_type": "code",
   "execution_count": null,
   "id": "20141642",
   "metadata": {},
   "outputs": [],
   "source": [
    "result = subm\n",
    "result['category'] = final_model.predict(tfidf_test.toarray())\n",
    "result.to_csv('my_submission.csv')"
   ]
  }
 ],
 "metadata": {
  "kernelspec": {
   "display_name": "Python 3 (ipykernel)",
   "language": "python",
   "name": "python3"
  },
  "language_info": {
   "codemirror_mode": {
    "name": "ipython",
    "version": 3
   },
   "file_extension": ".py",
   "mimetype": "text/x-python",
   "name": "python",
   "nbconvert_exporter": "python",
   "pygments_lexer": "ipython3",
   "version": "3.8.12"
  }
 },
 "nbformat": 4,
 "nbformat_minor": 5
}

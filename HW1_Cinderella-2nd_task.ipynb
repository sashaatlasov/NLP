{
 "cells": [
  {
   "cell_type": "code",
   "execution_count": 8,
   "id": "08bc7eeb",
   "metadata": {
    "colab": {
     "base_uri": "https://localhost:8080/"
    },
    "id": "08bc7eeb",
    "outputId": "ce428a20-1d3e-4f63-cdea-3f0f751c7a82",
    "scrolled": false
   },
   "outputs": [],
   "source": [
    "import warnings \n",
    "warnings.filterwarnings('ignore')\n",
    "\n",
    "import pandas as pd\n",
    "import numpy as np\n",
    "import re\n",
    "\n",
    "from nltk.tokenize import word_tokenize\n",
    "from nltk.corpus import stopwords\n",
    "from cleantext import clean\n",
    "import fasttext"
   ]
  },
  {
   "cell_type": "markdown",
   "id": "b53673a4",
   "metadata": {
    "id": "b53673a4"
   },
   "source": [
    "### Uploading data"
   ]
  },
  {
   "cell_type": "code",
   "execution_count": 9,
   "id": "da5997e2",
   "metadata": {
    "id": "da5997e2"
   },
   "outputs": [],
   "source": [
    "train = pd.read_csv('public_data/train_data.csv')\n",
    "train_solution = pd.read_csv('public_data/train_solution.csv')\n",
    "train['category'] = train_solution['category']\n",
    "test = pd.read_csv('public_data/test_data.csv')\n",
    "subm = pd.read_csv('public_data/sample_submission.csv')"
   ]
  },
  {
   "cell_type": "markdown",
   "id": "014ebc9a",
   "metadata": {},
   "source": [
    "Также загрузим дополнительные данные из телеграма (парсинг) и большой датасет из kaggle с текстами разной тематики."
   ]
  },
  {
   "cell_type": "code",
   "execution_count": 10,
   "id": "0860aac5",
   "metadata": {
    "colab": {
     "base_uri": "https://localhost:8080/"
    },
    "id": "0860aac5",
    "outputId": "228b6665-208e-4eaa-8191-3a6c30a9d322"
   },
   "outputs": [],
   "source": [
    "ad = pd.read_csv('public_data/tg.csv').dropna().drop(columns=['Unnamed: 0'])\n",
    "bloggers = pd.read_csv('public_data/blogtext.csv')"
   ]
  },
  {
   "cell_type": "code",
   "execution_count": 11,
   "id": "269538e5",
   "metadata": {
    "id": "269538e5"
   },
   "outputs": [],
   "source": [
    "train_tg = pd.concat([train['message'], ad['message'], bloggers['text'].sample(100000)], ignore_index=True, axis=0)"
   ]
  },
  {
   "cell_type": "markdown",
   "id": "5628e31d",
   "metadata": {
    "id": "5628e31d"
   },
   "source": [
    "### Getting word embeddings"
   ]
  },
  {
   "cell_type": "markdown",
   "id": "15de769e",
   "metadata": {},
   "source": [
    "Сохраним очищенные сообщения для обучения эмбеддингов."
   ]
  },
  {
   "cell_type": "code",
   "execution_count": 13,
   "id": "b121d28a",
   "metadata": {
    "colab": {
     "base_uri": "https://localhost:8080/",
     "height": 49,
     "referenced_widgets": [
      "0e86e15b79d84e3ebb6905f1bf1df76b",
      "2e913c2e811a413fa50609e87a020bcc",
      "aeee2e5c16004a8db55e0504429aeec8",
      "514cbd97cb29488e80ac7f6e65557d79",
      "03d7c5a26c624c059439debc13fa64fd",
      "5d79a7241f364480a4524ef62650e27a",
      "6e411ca6900844b8bbf27e1bbfd6b348",
      "08b3cfb6de5e4724ab0ea74a9cf5aafe",
      "6956baf82b7a4851bee887c770cc0b05",
      "ea1db08538bb41f4ada9fd6914ad6700",
      "27e33f26fd9d485fba1dbc342f0915f1"
     ]
    },
    "id": "b121d28a",
    "outputId": "3096b6f7-17d1-4033-f79c-8b89a0e986cf",
    "scrolled": true
   },
   "outputs": [
    {
     "data": {
      "application/vnd.jupyter.widget-view+json": {
       "model_id": "05c02fe9957849fbbb878ca432dbe38e",
       "version_major": 2,
       "version_minor": 0
      },
      "text/plain": [
       "  0%|          | 0/130374 [00:00<?, ?it/s]"
      ]
     },
     "metadata": {},
     "output_type": "display_data"
    }
   ],
   "source": [
    "from tqdm.auto import tqdm\n",
    "\n",
    "with open('cleaned.txt', 'w') as f:\n",
    "    for i in tqdm(train_tg):\n",
    "        f.write(clean(i, no_urls=True, no_digits=True, no_punct=True, no_line_breaks=True, no_numbers=True,\n",
    "             no_emoji=True))"
   ]
  },
  {
   "cell_type": "markdown",
   "id": "0f767da3",
   "metadata": {},
   "source": [
    "Обучим fasttext на большом (относительно исходной выборки) корпусе текстов."
   ]
  },
  {
   "cell_type": "code",
   "execution_count": 14,
   "id": "1uaUomysKS7U",
   "metadata": {
    "id": "1uaUomysKS7U"
   },
   "outputs": [
    {
     "name": "stderr",
     "output_type": "stream",
     "text": [
      "Read 20M words\n",
      "Number of words:  65596\n",
      "Number of labels: 0\n",
      "Progress: 100.0% words/sec/thread:   48618 lr:  0.000000 avg.loss:  1.608138 ETA:   0h 0m 0s  0.9% words/sec/thread:   52692 lr:  0.049543 avg.loss:  1.903321 ETA:   0h 4m39s  4.1% words/sec/thread:   51995 lr:  0.047927 avg.loss:  1.542269 ETA:   0h 4m34s 63.5% words/sec/thread:   47894 lr:  0.018257 avg.loss:  1.952261 ETA:   0h 1m53s100.0% words/sec/thread:   48618 lr: -0.000003 avg.loss:  1.608138 ETA:   0h 0m 0s\n"
     ]
    }
   ],
   "source": [
    "ft_model = fasttext.train_unsupervised('cleaned.txt', dim=100, verbose=2, maxn=3)"
   ]
  },
  {
   "cell_type": "markdown",
   "id": "38e5df70",
   "metadata": {},
   "source": [
    "Пара вспомогательных функций"
   ]
  },
  {
   "cell_type": "code",
   "execution_count": 28,
   "id": "6f5ea707",
   "metadata": {},
   "outputs": [],
   "source": [
    "sw = stopwords.words('english')\n",
    "\n",
    "def my_tok_and_clean(x):\n",
    "    a = word_tokenize(clean(x, no_urls=True, no_digits=True, no_punct=True, no_line_breaks=True, no_numbers=True,\n",
    "             no_emoji=True))\n",
    "    return a#[w for w in a if w not in sw]"
   ]
  },
  {
   "cell_type": "code",
   "execution_count": 29,
   "id": "7fa0749d",
   "metadata": {},
   "outputs": [],
   "source": [
    "train['cleaned'] = train['message'].apply(my_tok_and_clean)"
   ]
  },
  {
   "cell_type": "code",
   "execution_count": 30,
   "id": "34e54697",
   "metadata": {
    "id": "34e54697"
   },
   "outputs": [],
   "source": [
    "from scipy.spatial.distance import cosine\n",
    "\n",
    "my_future = (ft_model.get_word_vector('my') + ft_model.get_word_vector('future')) / 2\n",
    "def get_similarity(x):\n",
    "    l = len(x)\n",
    "    vec = np.zeros(100)\n",
    "    for i in x:\n",
    "        vec += ft_model.get_word_vector(i)\n",
    "    return 1 - cosine(vec / l, my_future)"
   ]
  },
  {
   "cell_type": "code",
   "execution_count": 31,
   "id": "de8fbd6c",
   "metadata": {},
   "outputs": [],
   "source": [
    "train['similarity'] = train['cleaned'].apply(get_similarity)"
   ]
  },
  {
   "cell_type": "code",
   "execution_count": 32,
   "id": "8c564840",
   "metadata": {},
   "outputs": [
    {
     "data": {
      "text/plain": [
       "3460                                                  😏❗️\n",
       "3496    (Changing this post of my mommy's dream of gra...\n",
       "3        Let's continue😉. I present to you my new review \n",
       "4                         Here comes your future palette.\n",
       "1621                           Is Macdonald's our future?\n",
       "3785                        Clarification from my friend.\n",
       "1391    In short, all my personal reasoning and my rea...\n",
       "1818          Separately, I will note my favorite way of \n",
       "3475                      Our future in the end of tunnel\n",
       "1316     In the meantime, it's my friend Natasha's anger.\n",
       "3684    Now it's time to open the first map of my inte...\n",
       "2942    I don't know about yours, and my plans for tom...\n",
       "1513    I want to tell you from the bottom of my heart...\n",
       "1717    Everything in this world is changing, except f...\n",
       "653     In Moscow, this morning is as gray as your Sun...\n",
       "449     Good afternoon, friends! Every day, during the...\n",
       "1071    Let's think about how to do future classes, ne...\n",
       "3394    To make every acquaintance of my life as lucky...\n",
       "2206    How exhcange student will present their works?...\n",
       "2124    By my count, the bottle should be enough for t...\n",
       "Name: message, dtype: object"
      ]
     },
     "execution_count": 32,
     "metadata": {},
     "output_type": "execute_result"
    }
   ],
   "source": [
    "train.sort_values(by=['similarity'], ascending=False)['message'][:20]"
   ]
  },
  {
   "cell_type": "code",
   "execution_count": null,
   "id": "66ecb7e9",
   "metadata": {},
   "outputs": [],
   "source": []
  }
 ],
 "metadata": {
  "accelerator": "GPU",
  "colab": {
   "provenance": []
  },
  "kernelspec": {
   "display_name": "Python 3 (ipykernel)",
   "language": "python",
   "name": "python3"
  },
  "language_info": {
   "codemirror_mode": {
    "name": "ipython",
    "version": 3
   },
   "file_extension": ".py",
   "mimetype": "text/x-python",
   "name": "python",
   "nbconvert_exporter": "python",
   "pygments_lexer": "ipython3",
   "version": "3.8.12"
  },
  "widgets": {
   "application/vnd.jupyter.widget-state+json": {
    "03d7c5a26c624c059439debc13fa64fd": {
     "model_module": "@jupyter-widgets/base",
     "model_module_version": "1.2.0",
     "model_name": "LayoutModel",
     "state": {
      "_model_module": "@jupyter-widgets/base",
      "_model_module_version": "1.2.0",
      "_model_name": "LayoutModel",
      "_view_count": null,
      "_view_module": "@jupyter-widgets/base",
      "_view_module_version": "1.2.0",
      "_view_name": "LayoutView",
      "align_content": null,
      "align_items": null,
      "align_self": null,
      "border": null,
      "bottom": null,
      "display": null,
      "flex": null,
      "flex_flow": null,
      "grid_area": null,
      "grid_auto_columns": null,
      "grid_auto_flow": null,
      "grid_auto_rows": null,
      "grid_column": null,
      "grid_gap": null,
      "grid_row": null,
      "grid_template_areas": null,
      "grid_template_columns": null,
      "grid_template_rows": null,
      "height": null,
      "justify_content": null,
      "justify_items": null,
      "left": null,
      "margin": null,
      "max_height": null,
      "max_width": null,
      "min_height": null,
      "min_width": null,
      "object_fit": null,
      "object_position": null,
      "order": null,
      "overflow": null,
      "overflow_x": null,
      "overflow_y": null,
      "padding": null,
      "right": null,
      "top": null,
      "visibility": null,
      "width": null
     }
    },
    "08b3cfb6de5e4724ab0ea74a9cf5aafe": {
     "model_module": "@jupyter-widgets/base",
     "model_module_version": "1.2.0",
     "model_name": "LayoutModel",
     "state": {
      "_model_module": "@jupyter-widgets/base",
      "_model_module_version": "1.2.0",
      "_model_name": "LayoutModel",
      "_view_count": null,
      "_view_module": "@jupyter-widgets/base",
      "_view_module_version": "1.2.0",
      "_view_name": "LayoutView",
      "align_content": null,
      "align_items": null,
      "align_self": null,
      "border": null,
      "bottom": null,
      "display": null,
      "flex": null,
      "flex_flow": null,
      "grid_area": null,
      "grid_auto_columns": null,
      "grid_auto_flow": null,
      "grid_auto_rows": null,
      "grid_column": null,
      "grid_gap": null,
      "grid_row": null,
      "grid_template_areas": null,
      "grid_template_columns": null,
      "grid_template_rows": null,
      "height": null,
      "justify_content": null,
      "justify_items": null,
      "left": null,
      "margin": null,
      "max_height": null,
      "max_width": null,
      "min_height": null,
      "min_width": null,
      "object_fit": null,
      "object_position": null,
      "order": null,
      "overflow": null,
      "overflow_x": null,
      "overflow_y": null,
      "padding": null,
      "right": null,
      "top": null,
      "visibility": null,
      "width": null
     }
    },
    "0e86e15b79d84e3ebb6905f1bf1df76b": {
     "model_module": "@jupyter-widgets/controls",
     "model_module_version": "1.5.0",
     "model_name": "HBoxModel",
     "state": {
      "_dom_classes": [],
      "_model_module": "@jupyter-widgets/controls",
      "_model_module_version": "1.5.0",
      "_model_name": "HBoxModel",
      "_view_count": null,
      "_view_module": "@jupyter-widgets/controls",
      "_view_module_version": "1.5.0",
      "_view_name": "HBoxView",
      "box_style": "",
      "children": [
       "IPY_MODEL_2e913c2e811a413fa50609e87a020bcc",
       "IPY_MODEL_aeee2e5c16004a8db55e0504429aeec8",
       "IPY_MODEL_514cbd97cb29488e80ac7f6e65557d79"
      ],
      "layout": "IPY_MODEL_03d7c5a26c624c059439debc13fa64fd"
     }
    },
    "27e33f26fd9d485fba1dbc342f0915f1": {
     "model_module": "@jupyter-widgets/controls",
     "model_module_version": "1.5.0",
     "model_name": "DescriptionStyleModel",
     "state": {
      "_model_module": "@jupyter-widgets/controls",
      "_model_module_version": "1.5.0",
      "_model_name": "DescriptionStyleModel",
      "_view_count": null,
      "_view_module": "@jupyter-widgets/base",
      "_view_module_version": "1.2.0",
      "_view_name": "StyleView",
      "description_width": ""
     }
    },
    "2e913c2e811a413fa50609e87a020bcc": {
     "model_module": "@jupyter-widgets/controls",
     "model_module_version": "1.5.0",
     "model_name": "HTMLModel",
     "state": {
      "_dom_classes": [],
      "_model_module": "@jupyter-widgets/controls",
      "_model_module_version": "1.5.0",
      "_model_name": "HTMLModel",
      "_view_count": null,
      "_view_module": "@jupyter-widgets/controls",
      "_view_module_version": "1.5.0",
      "_view_name": "HTMLView",
      "description": "",
      "description_tooltip": null,
      "layout": "IPY_MODEL_5d79a7241f364480a4524ef62650e27a",
      "placeholder": "​",
      "style": "IPY_MODEL_6e411ca6900844b8bbf27e1bbfd6b348",
      "value": "100%"
     }
    },
    "514cbd97cb29488e80ac7f6e65557d79": {
     "model_module": "@jupyter-widgets/controls",
     "model_module_version": "1.5.0",
     "model_name": "HTMLModel",
     "state": {
      "_dom_classes": [],
      "_model_module": "@jupyter-widgets/controls",
      "_model_module_version": "1.5.0",
      "_model_name": "HTMLModel",
      "_view_count": null,
      "_view_module": "@jupyter-widgets/controls",
      "_view_module_version": "1.5.0",
      "_view_name": "HTMLView",
      "description": "",
      "description_tooltip": null,
      "layout": "IPY_MODEL_ea1db08538bb41f4ada9fd6914ad6700",
      "placeholder": "​",
      "style": "IPY_MODEL_27e33f26fd9d485fba1dbc342f0915f1",
      "value": " 105365/105365 [00:47&lt;00:00, 1813.94it/s]"
     }
    },
    "5d79a7241f364480a4524ef62650e27a": {
     "model_module": "@jupyter-widgets/base",
     "model_module_version": "1.2.0",
     "model_name": "LayoutModel",
     "state": {
      "_model_module": "@jupyter-widgets/base",
      "_model_module_version": "1.2.0",
      "_model_name": "LayoutModel",
      "_view_count": null,
      "_view_module": "@jupyter-widgets/base",
      "_view_module_version": "1.2.0",
      "_view_name": "LayoutView",
      "align_content": null,
      "align_items": null,
      "align_self": null,
      "border": null,
      "bottom": null,
      "display": null,
      "flex": null,
      "flex_flow": null,
      "grid_area": null,
      "grid_auto_columns": null,
      "grid_auto_flow": null,
      "grid_auto_rows": null,
      "grid_column": null,
      "grid_gap": null,
      "grid_row": null,
      "grid_template_areas": null,
      "grid_template_columns": null,
      "grid_template_rows": null,
      "height": null,
      "justify_content": null,
      "justify_items": null,
      "left": null,
      "margin": null,
      "max_height": null,
      "max_width": null,
      "min_height": null,
      "min_width": null,
      "object_fit": null,
      "object_position": null,
      "order": null,
      "overflow": null,
      "overflow_x": null,
      "overflow_y": null,
      "padding": null,
      "right": null,
      "top": null,
      "visibility": null,
      "width": null
     }
    },
    "6956baf82b7a4851bee887c770cc0b05": {
     "model_module": "@jupyter-widgets/controls",
     "model_module_version": "1.5.0",
     "model_name": "ProgressStyleModel",
     "state": {
      "_model_module": "@jupyter-widgets/controls",
      "_model_module_version": "1.5.0",
      "_model_name": "ProgressStyleModel",
      "_view_count": null,
      "_view_module": "@jupyter-widgets/base",
      "_view_module_version": "1.2.0",
      "_view_name": "StyleView",
      "bar_color": null,
      "description_width": ""
     }
    },
    "6e411ca6900844b8bbf27e1bbfd6b348": {
     "model_module": "@jupyter-widgets/controls",
     "model_module_version": "1.5.0",
     "model_name": "DescriptionStyleModel",
     "state": {
      "_model_module": "@jupyter-widgets/controls",
      "_model_module_version": "1.5.0",
      "_model_name": "DescriptionStyleModel",
      "_view_count": null,
      "_view_module": "@jupyter-widgets/base",
      "_view_module_version": "1.2.0",
      "_view_name": "StyleView",
      "description_width": ""
     }
    },
    "aeee2e5c16004a8db55e0504429aeec8": {
     "model_module": "@jupyter-widgets/controls",
     "model_module_version": "1.5.0",
     "model_name": "FloatProgressModel",
     "state": {
      "_dom_classes": [],
      "_model_module": "@jupyter-widgets/controls",
      "_model_module_version": "1.5.0",
      "_model_name": "FloatProgressModel",
      "_view_count": null,
      "_view_module": "@jupyter-widgets/controls",
      "_view_module_version": "1.5.0",
      "_view_name": "ProgressView",
      "bar_style": "success",
      "description": "",
      "description_tooltip": null,
      "layout": "IPY_MODEL_08b3cfb6de5e4724ab0ea74a9cf5aafe",
      "max": 105365,
      "min": 0,
      "orientation": "horizontal",
      "style": "IPY_MODEL_6956baf82b7a4851bee887c770cc0b05",
      "value": 105365
     }
    },
    "ea1db08538bb41f4ada9fd6914ad6700": {
     "model_module": "@jupyter-widgets/base",
     "model_module_version": "1.2.0",
     "model_name": "LayoutModel",
     "state": {
      "_model_module": "@jupyter-widgets/base",
      "_model_module_version": "1.2.0",
      "_model_name": "LayoutModel",
      "_view_count": null,
      "_view_module": "@jupyter-widgets/base",
      "_view_module_version": "1.2.0",
      "_view_name": "LayoutView",
      "align_content": null,
      "align_items": null,
      "align_self": null,
      "border": null,
      "bottom": null,
      "display": null,
      "flex": null,
      "flex_flow": null,
      "grid_area": null,
      "grid_auto_columns": null,
      "grid_auto_flow": null,
      "grid_auto_rows": null,
      "grid_column": null,
      "grid_gap": null,
      "grid_row": null,
      "grid_template_areas": null,
      "grid_template_columns": null,
      "grid_template_rows": null,
      "height": null,
      "justify_content": null,
      "justify_items": null,
      "left": null,
      "margin": null,
      "max_height": null,
      "max_width": null,
      "min_height": null,
      "min_width": null,
      "object_fit": null,
      "object_position": null,
      "order": null,
      "overflow": null,
      "overflow_x": null,
      "overflow_y": null,
      "padding": null,
      "right": null,
      "top": null,
      "visibility": null,
      "width": null
     }
    }
   }
  }
 },
 "nbformat": 4,
 "nbformat_minor": 5
}

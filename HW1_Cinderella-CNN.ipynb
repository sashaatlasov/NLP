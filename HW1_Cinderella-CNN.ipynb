{
 "cells": [
  {
   "cell_type": "code",
   "execution_count": 2,
   "id": "08bc7eeb",
   "metadata": {
    "colab": {
     "base_uri": "https://localhost:8080/"
    },
    "id": "08bc7eeb",
    "outputId": "ce428a20-1d3e-4f63-cdea-3f0f751c7a82",
    "scrolled": false
   },
   "outputs": [],
   "source": [
    "import warnings \n",
    "warnings.filterwarnings('ignore')\n",
    "\n",
    "import pandas as pd\n",
    "import numpy as np\n",
    "import re\n",
    "import matplotlib.pyplot as plt\n",
    "\n",
    "from nltk.tokenize import word_tokenize\n",
    "from nltk.corpus import stopwords\n",
    "from nltk.stem.snowball import SnowballStemmer\n",
    "from cleantext import clean\n",
    "from keras.preprocessing import sequence\n",
    "from keras.preprocessing.text import Tokenizer\n",
    "\n",
    "from gensim.models import Word2Vec\n",
    "import fasttext\n",
    "from sklearn.linear_model import LogisticRegression\n",
    "from sklearn.ensemble import RandomForestClassifier\n",
    "from sklearn.metrics import accuracy_score\n",
    "from sklearn.model_selection import cross_val_score\n",
    "from sklearn.feature_extraction.text import TfidfVectorizer, CountVectorizer, HashingVectorizer\n",
    "\n",
    "import keras\n",
    "from keras import optimizers\n",
    "from keras import backend as K\n",
    "from keras import regularizers\n",
    "from keras.models import Sequential\n",
    "from keras.layers import Dense, Activation, Dropout, Flatten\n",
    "from keras.layers import Embedding, Conv1D, MaxPooling1D, GlobalMaxPooling1D \n",
    "from keras.callbacks import EarlyStopping\n",
    "from keras.wrappers.scikit_learn import KerasClassifier\n",
    "\n",
    "from hyperopt import fmin, tpe, hp, Trials, STATUS_OK"
   ]
  },
  {
   "cell_type": "markdown",
   "id": "b53673a4",
   "metadata": {
    "id": "b53673a4"
   },
   "source": [
    "### Uploading data"
   ]
  },
  {
   "cell_type": "code",
   "execution_count": 7,
   "id": "da5997e2",
   "metadata": {
    "id": "da5997e2"
   },
   "outputs": [],
   "source": [
    "train = pd.read_csv('public_data/train_data.csv')\n",
    "train_solution = pd.read_csv('public_data/train_solution.csv')\n",
    "train['category'] = train_solution['category']\n",
    "test = pd.read_csv('public_data/test_data.csv')\n",
    "subm = pd.read_csv('public_data/sample_submission.csv')"
   ]
  },
  {
   "cell_type": "code",
   "execution_count": 3,
   "id": "RBlUoAWEwEr5",
   "metadata": {
    "colab": {
     "base_uri": "https://localhost:8080/"
    },
    "id": "RBlUoAWEwEr5",
    "outputId": "deac7573-5e3a-4113-fb42-49832cbf88ac"
   },
   "outputs": [
    {
     "data": {
      "text/plain": [
       "131072"
      ]
     },
     "execution_count": 3,
     "metadata": {},
     "output_type": "execute_result"
    }
   ],
   "source": [
    "import sys\n",
    "import csv\n",
    "\n",
    "csv.field_size_limit(sys.maxsize)"
   ]
  },
  {
   "cell_type": "markdown",
   "id": "014ebc9a",
   "metadata": {},
   "source": [
    "Также загрузим дополнительные данные из телеграма (парсинг) и большой датасет из kaggle с текстами разной тематики."
   ]
  },
  {
   "cell_type": "code",
   "execution_count": 10,
   "id": "0860aac5",
   "metadata": {
    "colab": {
     "base_uri": "https://localhost:8080/"
    },
    "id": "0860aac5",
    "outputId": "228b6665-208e-4eaa-8191-3a6c30a9d322"
   },
   "outputs": [
    {
     "name": "stderr",
     "output_type": "stream",
     "text": [
      "Skipping line 15711: field larger than field limit (131072)\n",
      "Skipping line 16844: NULL byte detected. This byte cannot be processed in Python's native csv library at the moment, so please pass in engine='c' instead\n",
      "Skipping line 19370: NULL byte detected. This byte cannot be processed in Python's native csv library at the moment, so please pass in engine='c' instead\n",
      "Skipping line 31753: field larger than field limit (131072)\n",
      "Skipping line 33676: NULL byte detected. This byte cannot be processed in Python's native csv library at the moment, so please pass in engine='c' instead\n",
      "Skipping line 65976: NULL byte detected. This byte cannot be processed in Python's native csv library at the moment, so please pass in engine='c' instead\n",
      "Skipping line 116130: NULL byte detected. This byte cannot be processed in Python's native csv library at the moment, so please pass in engine='c' instead\n",
      "Skipping line 127080: NULL byte detected. This byte cannot be processed in Python's native csv library at the moment, so please pass in engine='c' instead\n",
      "Skipping line 154052: NULL byte detected. This byte cannot be processed in Python's native csv library at the moment, so please pass in engine='c' instead\n",
      "Skipping line 174200: NULL byte detected. This byte cannot be processed in Python's native csv library at the moment, so please pass in engine='c' instead\n",
      "Skipping line 189740: NULL byte detected. This byte cannot be processed in Python's native csv library at the moment, so please pass in engine='c' instead\n",
      "Skipping line 274245: NULL byte detected. This byte cannot be processed in Python's native csv library at the moment, so please pass in engine='c' instead\n",
      "Skipping line 275624: field larger than field limit (131072)\n",
      "Skipping line 302668: field larger than field limit (131072)\n",
      "Skipping line 307322: NULL byte detected. This byte cannot be processed in Python's native csv library at the moment, so please pass in engine='c' instead\n",
      "Skipping line 317541: NULL byte detected. This byte cannot be processed in Python's native csv library at the moment, so please pass in engine='c' instead\n",
      "Skipping line 333957: NULL byte detected. This byte cannot be processed in Python's native csv library at the moment, so please pass in engine='c' instead\n",
      "Skipping line 345859: NULL byte detected. This byte cannot be processed in Python's native csv library at the moment, so please pass in engine='c' instead\n",
      "Skipping line 359845: NULL byte detected. This byte cannot be processed in Python's native csv library at the moment, so please pass in engine='c' instead\n",
      "Skipping line 359846: NULL byte detected. This byte cannot be processed in Python's native csv library at the moment, so please pass in engine='c' instead\n",
      "Skipping line 359847: NULL byte detected. This byte cannot be processed in Python's native csv library at the moment, so please pass in engine='c' instead\n",
      "Skipping line 359849: NULL byte detected. This byte cannot be processed in Python's native csv library at the moment, so please pass in engine='c' instead\n",
      "Skipping line 371329: NULL byte detected. This byte cannot be processed in Python's native csv library at the moment, so please pass in engine='c' instead\n",
      "Skipping line 384761: field larger than field limit (131072)\n",
      "Skipping line 389712: NULL byte detected. This byte cannot be processed in Python's native csv library at the moment, so please pass in engine='c' instead\n",
      "Skipping line 391820: NULL byte detected. This byte cannot be processed in Python's native csv library at the moment, so please pass in engine='c' instead\n",
      "Skipping line 398927: NULL byte detected. This byte cannot be processed in Python's native csv library at the moment, so please pass in engine='c' instead\n",
      "Skipping line 401260: field larger than field limit (131072)\n",
      "Skipping line 403079: NULL byte detected. This byte cannot be processed in Python's native csv library at the moment, so please pass in engine='c' instead\n",
      "Skipping line 454667: NULL byte detected. This byte cannot be processed in Python's native csv library at the moment, so please pass in engine='c' instead\n",
      "Skipping line 465419: field larger than field limit (131072)\n",
      "Skipping line 466152: field larger than field limit (131072)\n",
      "Skipping line 485309: NULL byte detected. This byte cannot be processed in Python's native csv library at the moment, so please pass in engine='c' instead\n",
      "Skipping line 529874: field larger than field limit (131072)\n",
      "Skipping line 552169: NULL byte detected. This byte cannot be processed in Python's native csv library at the moment, so please pass in engine='c' instead\n",
      "Skipping line 554628: NULL byte detected. This byte cannot be processed in Python's native csv library at the moment, so please pass in engine='c' instead\n",
      "Skipping line 560429: NULL byte detected. This byte cannot be processed in Python's native csv library at the moment, so please pass in engine='c' instead\n",
      "Skipping line 589855: field larger than field limit (131072)\n",
      "Skipping line 601507: NULL byte detected. This byte cannot be processed in Python's native csv library at the moment, so please pass in engine='c' instead\n",
      "Skipping line 614020: NULL byte detected. This byte cannot be processed in Python's native csv library at the moment, so please pass in engine='c' instead\n",
      "Skipping line 630106: NULL byte detected. This byte cannot be processed in Python's native csv library at the moment, so please pass in engine='c' instead\n",
      "Skipping line 632882: field larger than field limit (131072)\n",
      "Skipping line 637573: NULL byte detected. This byte cannot be processed in Python's native csv library at the moment, so please pass in engine='c' instead\n",
      "Skipping line 658667: field larger than field limit (131072)\n"
     ]
    }
   ],
   "source": [
    "ad = pd.read_csv('public_data/tg.csv').dropna().drop(columns=['Unnamed: 0'])\n",
    "fashion = pd.read_csv('public_data/fashion.csv', engine='python', encoding='utf-8',\n",
    "                       error_bad_lines=False)\n",
    "bloggers = pd.read_csv('public_data/blogtext.csv', engine='python', encoding='utf-8',\n",
    "                       error_bad_lines=False)"
   ]
  },
  {
   "cell_type": "code",
   "execution_count": 11,
   "id": "269538e5",
   "metadata": {
    "id": "269538e5"
   },
   "outputs": [],
   "source": [
    "train_tg = pd.concat([train, ad, fashion], ignore_index=True, axis=0)\n",
    "y_train_tg = train_tg.category"
   ]
  },
  {
   "cell_type": "markdown",
   "id": "74e37d80",
   "metadata": {},
   "source": [
    "Для получения более качественных эмбеддингов возьмем 50000 случайных объектов из большого датасета kaggle и добавим к основной выборке."
   ]
  },
  {
   "cell_type": "code",
   "execution_count": 6,
   "id": "2T0CCS4dZdAs",
   "metadata": {
    "id": "2T0CCS4dZdAs"
   },
   "outputs": [],
   "source": [
    "for_embs = pd.concat([train['message'], ad['message'], fashion['message'],\n",
    "                      bloggers['text'].sample(50000)], ignore_index=True, axis=0)"
   ]
  },
  {
   "cell_type": "code",
   "execution_count": 7,
   "id": "gazd7_Bbl6Cv",
   "metadata": {
    "colab": {
     "base_uri": "https://localhost:8080/"
    },
    "id": "gazd7_Bbl6Cv",
    "outputId": "03850c44-8333-4806-f8ba-c15c584d81e7"
   },
   "outputs": [
    {
     "data": {
      "text/plain": [
       "(105365,)"
      ]
     },
     "execution_count": 7,
     "metadata": {},
     "output_type": "execute_result"
    }
   ],
   "source": [
    "for_embs.shape"
   ]
  },
  {
   "cell_type": "code",
   "execution_count": 8,
   "id": "dfef73f6",
   "metadata": {
    "colab": {
     "base_uri": "https://localhost:8080/"
    },
    "id": "dfef73f6",
    "outputId": "2a2e6237-ca4b-41ef-9e0e-b39f510a4d38"
   },
   "outputs": [
    {
     "data": {
      "text/plain": [
       "(55365, 4)"
      ]
     },
     "execution_count": 8,
     "metadata": {},
     "output_type": "execute_result"
    }
   ],
   "source": [
    "train_tg.shape"
   ]
  },
  {
   "cell_type": "markdown",
   "id": "9bedc451",
   "metadata": {
    "id": "9bedc451"
   },
   "source": [
    "Посмотрим на баланс классов"
   ]
  },
  {
   "cell_type": "code",
   "execution_count": 9,
   "id": "ea3b6872",
   "metadata": {
    "colab": {
     "base_uri": "https://localhost:8080/"
    },
    "id": "ea3b6872",
    "outputId": "9d859dff-96c8-45e5-8424-88b750c9a23e",
    "scrolled": false
   },
   "outputs": [
    {
     "data": {
      "text/plain": [
       "2.0    0.491863\n",
       "0.0    0.334634\n",
       "1.0    0.173503\n",
       "Name: category, dtype: float64"
      ]
     },
     "execution_count": 9,
     "metadata": {},
     "output_type": "execute_result"
    }
   ],
   "source": [
    "train_tg.category.value_counts() / train_tg.shape[0]"
   ]
  },
  {
   "cell_type": "markdown",
   "id": "72d48b27",
   "metadata": {
    "id": "72d48b27"
   },
   "source": [
    "### Text preprocessing"
   ]
  },
  {
   "cell_type": "markdown",
   "id": "cf41b394",
   "metadata": {},
   "source": [
    "Предобработаем данные и подготовим их для входа в нейронную сеть."
   ]
  },
  {
   "cell_type": "code",
   "execution_count": 10,
   "id": "45df90a3",
   "metadata": {
    "id": "45df90a3"
   },
   "outputs": [],
   "source": [
    "def my_tok_and_clean(x):\n",
    "    a = clean(x, no_urls=True, no_digits=True, no_punct=True, no_line_breaks=True, no_numbers=True,\n",
    "             no_emoji=True, no_currency_symbols=True)\n",
    "    return a"
   ]
  },
  {
   "cell_type": "code",
   "execution_count": 11,
   "id": "84de4ec7",
   "metadata": {
    "id": "84de4ec7"
   },
   "outputs": [],
   "source": [
    "train_tg['cleaned'] = train_tg['message'].apply(my_tok_and_clean)\n",
    "test['cleaned'] = test['message'].apply(my_tok_and_clean)"
   ]
  },
  {
   "cell_type": "code",
   "execution_count": 12,
   "id": "28f3e23d",
   "metadata": {
    "colab": {
     "base_uri": "https://localhost:8080/"
    },
    "id": "28f3e23d",
    "outputId": "85b66b65-b6fb-4633-8824-70177af2a438"
   },
   "outputs": [
    {
     "data": {
      "text/plain": [
       "0        over <cur><number> million in bitcoin was elec...\n",
       "1                                  quiz thursday or friday\n",
       "2        the australian revenue authority will start co...\n",
       "3             lets continue i present to you my new review\n",
       "4                           here comes your future palette\n",
       "                               ...                        \n",
       "55360    morgan luke christensen i wonder how you are d...\n",
       "55361    a friend of mine came with tears i guess i kno...\n",
       "55362    yuck in aint no fun going to da office when yo...\n",
       "55363    two of my friends are going to get married to ...\n",
       "55364    woooo havent blog for awhile its already thurs...\n",
       "Name: cleaned, Length: 55365, dtype: object"
      ]
     },
     "execution_count": 12,
     "metadata": {},
     "output_type": "execute_result"
    }
   ],
   "source": [
    "train_tg['cleaned']"
   ]
  },
  {
   "cell_type": "markdown",
   "id": "2d8f85f9",
   "metadata": {},
   "source": [
    "Будем брать не очень длинные последовательности."
   ]
  },
  {
   "cell_type": "code",
   "execution_count": 13,
   "id": "teoeXpdjRtkZ",
   "metadata": {
    "colab": {
     "base_uri": "https://localhost:8080/"
    },
    "id": "teoeXpdjRtkZ",
    "outputId": "679a841a-2dd0-4f5d-e13f-c372370bb998"
   },
   "outputs": [
    {
     "data": {
      "text/plain": [
       "array([277119,  90139,  53984,  38015,  31684,  30904,  30656,  30450,\n",
       "        30259,  28421,  28213,  26240,  25260,  25234,  23257])"
      ]
     },
     "execution_count": 13,
     "metadata": {},
     "output_type": "execute_result"
    }
   ],
   "source": [
    "lens = train_tg['cleaned'].append(test['cleaned']).apply(len)\n",
    "t = np.sort(train_tg['cleaned'].append(test['cleaned']).apply(len))[::-1]\n",
    "t[:15]"
   ]
  },
  {
   "cell_type": "code",
   "execution_count": 14,
   "id": "0386bf86",
   "metadata": {
    "id": "0386bf86"
   },
   "outputs": [],
   "source": [
    "MAX_NB_WORDS = 100000\n",
    "idx = lens <= t[15]\n",
    "idx1 = train_tg['cleaned'].apply(len) <= t[15]\n",
    "idx2 = test['message'].apply(len) <= t[15]\n",
    "tokenizer = Tokenizer(num_words=MAX_NB_WORDS, lower=False, char_level=False)\n",
    "tokenizer.fit_on_texts(train_tg['cleaned'].append(test['cleaned'])[idx]) \n",
    "word_seq_train = tokenizer.texts_to_sequences(train_tg['cleaned'][idx1])\n",
    "word_seq_test = tokenizer.texts_to_sequences(test['cleaned'][idx2])\n",
    "word_index = tokenizer.word_index"
   ]
  },
  {
   "cell_type": "code",
   "execution_count": 15,
   "id": "HXDaPBiCc_pX",
   "metadata": {
    "id": "HXDaPBiCc_pX"
   },
   "outputs": [],
   "source": [
    "from keras_preprocessing.sequence import pad_sequences\n",
    "\n",
    "word_seq_train = pad_sequences(word_seq_train, maxlen=t[15])\n",
    "word_seq_test = pad_sequences(word_seq_test, maxlen=t[15])"
   ]
  },
  {
   "cell_type": "markdown",
   "id": "5628e31d",
   "metadata": {
    "id": "5628e31d"
   },
   "source": [
    "### Getting word embeddings"
   ]
  },
  {
   "cell_type": "markdown",
   "id": "15de769e",
   "metadata": {},
   "source": [
    "Сохраним очищенные сообщения для обучения эмбеддингов."
   ]
  },
  {
   "cell_type": "code",
   "execution_count": 16,
   "id": "b121d28a",
   "metadata": {
    "colab": {
     "base_uri": "https://localhost:8080/",
     "height": 49,
     "referenced_widgets": [
      "0e86e15b79d84e3ebb6905f1bf1df76b",
      "2e913c2e811a413fa50609e87a020bcc",
      "aeee2e5c16004a8db55e0504429aeec8",
      "514cbd97cb29488e80ac7f6e65557d79",
      "03d7c5a26c624c059439debc13fa64fd",
      "5d79a7241f364480a4524ef62650e27a",
      "6e411ca6900844b8bbf27e1bbfd6b348",
      "08b3cfb6de5e4724ab0ea74a9cf5aafe",
      "6956baf82b7a4851bee887c770cc0b05",
      "ea1db08538bb41f4ada9fd6914ad6700",
      "27e33f26fd9d485fba1dbc342f0915f1"
     ]
    },
    "id": "b121d28a",
    "outputId": "3096b6f7-17d1-4033-f79c-8b89a0e986cf",
    "scrolled": true
   },
   "outputs": [
    {
     "data": {
      "application/vnd.jupyter.widget-view+json": {
       "model_id": "0e86e15b79d84e3ebb6905f1bf1df76b",
       "version_major": 2,
       "version_minor": 0
      },
      "text/plain": [
       "  0%|          | 0/105365 [00:00<?, ?it/s]"
      ]
     },
     "metadata": {},
     "output_type": "display_data"
    }
   ],
   "source": [
    "from tqdm.auto import tqdm\n",
    "\n",
    "with open('cleaned.txt', 'w') as f:\n",
    "    for i in tqdm(for_embs):\n",
    "        f.write(clean(i, no_urls=True, no_digits=True, no_punct=True, no_line_breaks=True, no_numbers=True,\n",
    "             no_emoji=True))"
   ]
  },
  {
   "cell_type": "markdown",
   "id": "28998a0c",
   "metadata": {},
   "source": [
    "Обучим fasttext"
   ]
  },
  {
   "cell_type": "code",
   "execution_count": 17,
   "id": "1uaUomysKS7U",
   "metadata": {
    "id": "1uaUomysKS7U"
   },
   "outputs": [],
   "source": [
    "ft_model = fasttext.train_unsupervised('cleaned.txt', dim=100, verbose=2, maxn=3)"
   ]
  },
  {
   "cell_type": "markdown",
   "id": "726fabe6",
   "metadata": {},
   "source": [
    "Для 2-ого задания в отчете посмотрим на ближайших соседей My future"
   ]
  },
  {
   "cell_type": "code",
   "execution_count": 26,
   "id": "QurnqwTOylPD",
   "metadata": {
    "colab": {
     "base_uri": "https://localhost:8080/"
    },
    "id": "QurnqwTOylPD",
    "outputId": "75fe006e-8227-4bf5-c33d-6a7194a48079"
   },
   "outputs": [
    {
     "data": {
      "text/plain": [
       "[(0.8529556393623352, 'futurist'),\n",
       " (0.8383951783180237, 'future'),\n",
       " (0.8339837789535522, 'futureand'),\n",
       " (0.8027969002723694, 'futuristic'),\n",
       " (0.8005754351615906, 'futures'),\n",
       " (0.7977690100669861, 'futurei'),\n",
       " (0.7969520092010498, 'futuresentry'),\n",
       " (0.7375408411026001, 'alternate'),\n",
       " (0.7328957319259644, 'comiccon'),\n",
       " (0.720456063747406, 'counterintuitive'),\n",
       " (0.7204479575157166, 'tradingview'),\n",
       " (0.7160143256187439, 'portrays'),\n",
       " (0.7157045602798462, 'comicbook'),\n",
       " (0.7133139371871948, 'fabrication'),\n",
       " (0.7107023000717163, 'exposition'),\n",
       " (0.7091489434242249, 'promising'),\n",
       " (0.7090098857879639, 'confinement'),\n",
       " (0.7087546586990356, 'traditionalist'),\n",
       " (0.7059422135353088, 'portray'),\n",
       " (0.7045783400535583, 'fabricate'),\n",
       " (0.7043193578720093, 'premise'),\n",
       " (0.7042611241340637, 'eventual'),\n",
       " (0.7035579085350037, 'futureurllink'),\n",
       " (0.7021069526672363, 'portraits'),\n",
       " (0.7017072439193726, 'ciphertrace'),\n",
       " (0.700780987739563, 'comical'),\n",
       " (0.7006242871284485, 'ventures'),\n",
       " (0.6987130641937256, 'refutation'),\n",
       " (0.6980839371681213, 'searchlight'),\n",
       " (0.6980205774307251, 'unearth')]"
      ]
     },
     "execution_count": 26,
     "metadata": {},
     "output_type": "execute_result"
    }
   ],
   "source": [
    "ft_model.get_nearest_neighbors('my future', k=30)"
   ]
  },
  {
   "cell_type": "code",
   "execution_count": 19,
   "id": "26155b8f",
   "metadata": {
    "colab": {
     "base_uri": "https://localhost:8080/"
    },
    "id": "26155b8f",
    "outputId": "60c4e0c3-1d96-4002-c8e8-e39bdcae3eea"
   },
   "outputs": [
    {
     "name": "stdout",
     "output_type": "stream",
     "text": [
      "preparing embedding matrix...\n",
      "number of null word embeddings: 8\n"
     ]
    }
   ],
   "source": [
    "print('preparing embedding matrix...')\n",
    "words_not_found = []\n",
    "nb_words = min(MAX_NB_WORDS, len(word_index))\n",
    "embedding_matrix = np.zeros((nb_words, 100))\n",
    "for word, i in word_index.items():\n",
    "    if i >= nb_words:\n",
    "        continue\n",
    "    embedding_vector = ft_model.get_word_vector(word)\n",
    "    if (embedding_vector is not None) and len(embedding_vector) > 0:\n",
    "        # words not found in embedding index will be all-zeros.\n",
    "        embedding_matrix[i] = embedding_vector\n",
    "    else:\n",
    "        words_not_found.append(word)\n",
    "print('number of null word embeddings: %d' % np.sum(np.sum(embedding_matrix, axis=1) == 0))"
   ]
  },
  {
   "cell_type": "code",
   "execution_count": 20,
   "id": "ad8a6822",
   "metadata": {
    "id": "ad8a6822"
   },
   "outputs": [],
   "source": [
    "batch_size = 256 \n",
    "num_epochs = 8\n",
    "\n",
    "num_filters = 64 \n",
    "weight_decay = 1e-4"
   ]
  },
  {
   "cell_type": "code",
   "execution_count": 21,
   "id": "e124d4eb",
   "metadata": {
    "id": "e124d4eb"
   },
   "outputs": [],
   "source": [
    "def baseline_model():\n",
    "    model = Sequential()\n",
    "    model.add(Embedding(nb_words, 100,\n",
    "              weights=[embedding_matrix], input_length=word_seq_train.shape[1], trainable=False))\n",
    "    model.add(Conv1D(num_filters, 7, activation='relu', padding='same'))\n",
    "    model.add(MaxPooling1D(2))\n",
    "    model.add(Conv1D(num_filters, 7, activation='relu', padding='same'))\n",
    "    model.add(GlobalMaxPooling1D())\n",
    "    model.add(Dropout(0.5))\n",
    "    model.add(Dense(32, activation='relu', kernel_regularizer=regularizers.l2(weight_decay)))\n",
    "    model.add(Dense(3, activation='softmax'))  \n",
    "\n",
    "    model.compile(loss='categorical_crossentropy', optimizer='adam', metrics=['accuracy'])\n",
    "    return model"
   ]
  },
  {
   "cell_type": "code",
   "execution_count": 22,
   "id": "mQ0O-n2o7S1l",
   "metadata": {
    "id": "mQ0O-n2o7S1l"
   },
   "outputs": [],
   "source": [
    "early_stopping = EarlyStopping(monitor='val_loss', min_delta=0.01, patience=4, verbose=1)\n",
    "callbacks_list = [early_stopping]"
   ]
  },
  {
   "cell_type": "code",
   "execution_count": 23,
   "id": "d256e690",
   "metadata": {
    "colab": {
     "base_uri": "https://localhost:8080/"
    },
    "id": "d256e690",
    "outputId": "8e4ecea5-1368-41a1-e369-e52391fe13dc"
   },
   "outputs": [
    {
     "name": "stdout",
     "output_type": "stream",
     "text": [
      "Epoch 1/8\n",
      "195/195 [==============================] - 187s 869ms/step - loss: 0.3320 - accuracy: 0.8717 - val_loss: 0.0817 - val_accuracy: 0.9725\n",
      "Epoch 2/8\n",
      "195/195 [==============================] - 168s 862ms/step - loss: 0.1639 - accuracy: 0.9469 - val_loss: 0.0774 - val_accuracy: 0.9707\n",
      "Epoch 3/8\n",
      "195/195 [==============================] - 168s 862ms/step - loss: 0.1423 - accuracy: 0.9537 - val_loss: 0.0635 - val_accuracy: 0.9758\n",
      "Epoch 4/8\n",
      "195/195 [==============================] - 168s 862ms/step - loss: 0.1263 - accuracy: 0.9581 - val_loss: 0.0616 - val_accuracy: 0.9756\n",
      "Epoch 5/8\n",
      "195/195 [==============================] - 168s 862ms/step - loss: 0.1152 - accuracy: 0.9629 - val_loss: 0.0657 - val_accuracy: 0.9745\n",
      "Epoch 6/8\n",
      "195/195 [==============================] - 168s 862ms/step - loss: 0.1054 - accuracy: 0.9648 - val_loss: 0.0519 - val_accuracy: 0.9807\n",
      "Epoch 7/8\n",
      "195/195 [==============================] - 168s 862ms/step - loss: 0.0954 - accuracy: 0.9679 - val_loss: 0.0752 - val_accuracy: 0.9702\n",
      "Epoch 8/8\n",
      "195/195 [==============================] - 168s 861ms/step - loss: 0.0876 - accuracy: 0.9710 - val_loss: 0.0637 - val_accuracy: 0.9754\n"
     ]
    },
    {
     "data": {
      "text/plain": [
       "<keras.callbacks.History at 0x7f0743fc8dd0>"
      ]
     },
     "execution_count": 23,
     "metadata": {},
     "output_type": "execute_result"
    }
   ],
   "source": [
    "nn_clf = KerasClassifier(build_fn=baseline_model, epochs=num_epochs, batch_size=batch_size, \n",
    "                          callbacks=callbacks_list, validation_split=0.1, shuffle=True, verbose=1)\n",
    "nn_clf.fit(word_seq_train, y_train_tg)"
   ]
  },
  {
   "cell_type": "code",
   "execution_count": 24,
   "id": "AH3c0V_651Nh",
   "metadata": {
    "colab": {
     "base_uri": "https://localhost:8080/"
    },
    "id": "AH3c0V_651Nh",
    "outputId": "85580a13-8551-411d-c547-b5bde8f4c703"
   },
   "outputs": [
    {
     "name": "stdout",
     "output_type": "stream",
     "text": [
      "186/186 [==============================] - 8s 41ms/step\n"
     ]
    }
   ],
   "source": [
    "result = subm\n",
    "result['category'] = nn_clf.predict(word_seq_test)\n",
    "result.to_csv('my_submission.csv')"
   ]
  },
  {
   "cell_type": "code",
   "execution_count": null,
   "id": "34e54697",
   "metadata": {
    "id": "34e54697"
   },
   "outputs": [],
   "source": []
  }
 ],
 "metadata": {
  "accelerator": "GPU",
  "colab": {
   "provenance": []
  },
  "kernelspec": {
   "display_name": "Python 3 (ipykernel)",
   "language": "python",
   "name": "python3"
  },
  "language_info": {
   "codemirror_mode": {
    "name": "ipython",
    "version": 3
   },
   "file_extension": ".py",
   "mimetype": "text/x-python",
   "name": "python",
   "nbconvert_exporter": "python",
   "pygments_lexer": "ipython3",
   "version": "3.8.12"
  },
  "widgets": {
   "application/vnd.jupyter.widget-state+json": {
    "03d7c5a26c624c059439debc13fa64fd": {
     "model_module": "@jupyter-widgets/base",
     "model_module_version": "1.2.0",
     "model_name": "LayoutModel",
     "state": {
      "_model_module": "@jupyter-widgets/base",
      "_model_module_version": "1.2.0",
      "_model_name": "LayoutModel",
      "_view_count": null,
      "_view_module": "@jupyter-widgets/base",
      "_view_module_version": "1.2.0",
      "_view_name": "LayoutView",
      "align_content": null,
      "align_items": null,
      "align_self": null,
      "border": null,
      "bottom": null,
      "display": null,
      "flex": null,
      "flex_flow": null,
      "grid_area": null,
      "grid_auto_columns": null,
      "grid_auto_flow": null,
      "grid_auto_rows": null,
      "grid_column": null,
      "grid_gap": null,
      "grid_row": null,
      "grid_template_areas": null,
      "grid_template_columns": null,
      "grid_template_rows": null,
      "height": null,
      "justify_content": null,
      "justify_items": null,
      "left": null,
      "margin": null,
      "max_height": null,
      "max_width": null,
      "min_height": null,
      "min_width": null,
      "object_fit": null,
      "object_position": null,
      "order": null,
      "overflow": null,
      "overflow_x": null,
      "overflow_y": null,
      "padding": null,
      "right": null,
      "top": null,
      "visibility": null,
      "width": null
     }
    },
    "08b3cfb6de5e4724ab0ea74a9cf5aafe": {
     "model_module": "@jupyter-widgets/base",
     "model_module_version": "1.2.0",
     "model_name": "LayoutModel",
     "state": {
      "_model_module": "@jupyter-widgets/base",
      "_model_module_version": "1.2.0",
      "_model_name": "LayoutModel",
      "_view_count": null,
      "_view_module": "@jupyter-widgets/base",
      "_view_module_version": "1.2.0",
      "_view_name": "LayoutView",
      "align_content": null,
      "align_items": null,
      "align_self": null,
      "border": null,
      "bottom": null,
      "display": null,
      "flex": null,
      "flex_flow": null,
      "grid_area": null,
      "grid_auto_columns": null,
      "grid_auto_flow": null,
      "grid_auto_rows": null,
      "grid_column": null,
      "grid_gap": null,
      "grid_row": null,
      "grid_template_areas": null,
      "grid_template_columns": null,
      "grid_template_rows": null,
      "height": null,
      "justify_content": null,
      "justify_items": null,
      "left": null,
      "margin": null,
      "max_height": null,
      "max_width": null,
      "min_height": null,
      "min_width": null,
      "object_fit": null,
      "object_position": null,
      "order": null,
      "overflow": null,
      "overflow_x": null,
      "overflow_y": null,
      "padding": null,
      "right": null,
      "top": null,
      "visibility": null,
      "width": null
     }
    },
    "0e86e15b79d84e3ebb6905f1bf1df76b": {
     "model_module": "@jupyter-widgets/controls",
     "model_module_version": "1.5.0",
     "model_name": "HBoxModel",
     "state": {
      "_dom_classes": [],
      "_model_module": "@jupyter-widgets/controls",
      "_model_module_version": "1.5.0",
      "_model_name": "HBoxModel",
      "_view_count": null,
      "_view_module": "@jupyter-widgets/controls",
      "_view_module_version": "1.5.0",
      "_view_name": "HBoxView",
      "box_style": "",
      "children": [
       "IPY_MODEL_2e913c2e811a413fa50609e87a020bcc",
       "IPY_MODEL_aeee2e5c16004a8db55e0504429aeec8",
       "IPY_MODEL_514cbd97cb29488e80ac7f6e65557d79"
      ],
      "layout": "IPY_MODEL_03d7c5a26c624c059439debc13fa64fd"
     }
    },
    "27e33f26fd9d485fba1dbc342f0915f1": {
     "model_module": "@jupyter-widgets/controls",
     "model_module_version": "1.5.0",
     "model_name": "DescriptionStyleModel",
     "state": {
      "_model_module": "@jupyter-widgets/controls",
      "_model_module_version": "1.5.0",
      "_model_name": "DescriptionStyleModel",
      "_view_count": null,
      "_view_module": "@jupyter-widgets/base",
      "_view_module_version": "1.2.0",
      "_view_name": "StyleView",
      "description_width": ""
     }
    },
    "2e913c2e811a413fa50609e87a020bcc": {
     "model_module": "@jupyter-widgets/controls",
     "model_module_version": "1.5.0",
     "model_name": "HTMLModel",
     "state": {
      "_dom_classes": [],
      "_model_module": "@jupyter-widgets/controls",
      "_model_module_version": "1.5.0",
      "_model_name": "HTMLModel",
      "_view_count": null,
      "_view_module": "@jupyter-widgets/controls",
      "_view_module_version": "1.5.0",
      "_view_name": "HTMLView",
      "description": "",
      "description_tooltip": null,
      "layout": "IPY_MODEL_5d79a7241f364480a4524ef62650e27a",
      "placeholder": "​",
      "style": "IPY_MODEL_6e411ca6900844b8bbf27e1bbfd6b348",
      "value": "100%"
     }
    },
    "514cbd97cb29488e80ac7f6e65557d79": {
     "model_module": "@jupyter-widgets/controls",
     "model_module_version": "1.5.0",
     "model_name": "HTMLModel",
     "state": {
      "_dom_classes": [],
      "_model_module": "@jupyter-widgets/controls",
      "_model_module_version": "1.5.0",
      "_model_name": "HTMLModel",
      "_view_count": null,
      "_view_module": "@jupyter-widgets/controls",
      "_view_module_version": "1.5.0",
      "_view_name": "HTMLView",
      "description": "",
      "description_tooltip": null,
      "layout": "IPY_MODEL_ea1db08538bb41f4ada9fd6914ad6700",
      "placeholder": "​",
      "style": "IPY_MODEL_27e33f26fd9d485fba1dbc342f0915f1",
      "value": " 105365/105365 [00:47&lt;00:00, 1813.94it/s]"
     }
    },
    "5d79a7241f364480a4524ef62650e27a": {
     "model_module": "@jupyter-widgets/base",
     "model_module_version": "1.2.0",
     "model_name": "LayoutModel",
     "state": {
      "_model_module": "@jupyter-widgets/base",
      "_model_module_version": "1.2.0",
      "_model_name": "LayoutModel",
      "_view_count": null,
      "_view_module": "@jupyter-widgets/base",
      "_view_module_version": "1.2.0",
      "_view_name": "LayoutView",
      "align_content": null,
      "align_items": null,
      "align_self": null,
      "border": null,
      "bottom": null,
      "display": null,
      "flex": null,
      "flex_flow": null,
      "grid_area": null,
      "grid_auto_columns": null,
      "grid_auto_flow": null,
      "grid_auto_rows": null,
      "grid_column": null,
      "grid_gap": null,
      "grid_row": null,
      "grid_template_areas": null,
      "grid_template_columns": null,
      "grid_template_rows": null,
      "height": null,
      "justify_content": null,
      "justify_items": null,
      "left": null,
      "margin": null,
      "max_height": null,
      "max_width": null,
      "min_height": null,
      "min_width": null,
      "object_fit": null,
      "object_position": null,
      "order": null,
      "overflow": null,
      "overflow_x": null,
      "overflow_y": null,
      "padding": null,
      "right": null,
      "top": null,
      "visibility": null,
      "width": null
     }
    },
    "6956baf82b7a4851bee887c770cc0b05": {
     "model_module": "@jupyter-widgets/controls",
     "model_module_version": "1.5.0",
     "model_name": "ProgressStyleModel",
     "state": {
      "_model_module": "@jupyter-widgets/controls",
      "_model_module_version": "1.5.0",
      "_model_name": "ProgressStyleModel",
      "_view_count": null,
      "_view_module": "@jupyter-widgets/base",
      "_view_module_version": "1.2.0",
      "_view_name": "StyleView",
      "bar_color": null,
      "description_width": ""
     }
    },
    "6e411ca6900844b8bbf27e1bbfd6b348": {
     "model_module": "@jupyter-widgets/controls",
     "model_module_version": "1.5.0",
     "model_name": "DescriptionStyleModel",
     "state": {
      "_model_module": "@jupyter-widgets/controls",
      "_model_module_version": "1.5.0",
      "_model_name": "DescriptionStyleModel",
      "_view_count": null,
      "_view_module": "@jupyter-widgets/base",
      "_view_module_version": "1.2.0",
      "_view_name": "StyleView",
      "description_width": ""
     }
    },
    "aeee2e5c16004a8db55e0504429aeec8": {
     "model_module": "@jupyter-widgets/controls",
     "model_module_version": "1.5.0",
     "model_name": "FloatProgressModel",
     "state": {
      "_dom_classes": [],
      "_model_module": "@jupyter-widgets/controls",
      "_model_module_version": "1.5.0",
      "_model_name": "FloatProgressModel",
      "_view_count": null,
      "_view_module": "@jupyter-widgets/controls",
      "_view_module_version": "1.5.0",
      "_view_name": "ProgressView",
      "bar_style": "success",
      "description": "",
      "description_tooltip": null,
      "layout": "IPY_MODEL_08b3cfb6de5e4724ab0ea74a9cf5aafe",
      "max": 105365,
      "min": 0,
      "orientation": "horizontal",
      "style": "IPY_MODEL_6956baf82b7a4851bee887c770cc0b05",
      "value": 105365
     }
    },
    "ea1db08538bb41f4ada9fd6914ad6700": {
     "model_module": "@jupyter-widgets/base",
     "model_module_version": "1.2.0",
     "model_name": "LayoutModel",
     "state": {
      "_model_module": "@jupyter-widgets/base",
      "_model_module_version": "1.2.0",
      "_model_name": "LayoutModel",
      "_view_count": null,
      "_view_module": "@jupyter-widgets/base",
      "_view_module_version": "1.2.0",
      "_view_name": "LayoutView",
      "align_content": null,
      "align_items": null,
      "align_self": null,
      "border": null,
      "bottom": null,
      "display": null,
      "flex": null,
      "flex_flow": null,
      "grid_area": null,
      "grid_auto_columns": null,
      "grid_auto_flow": null,
      "grid_auto_rows": null,
      "grid_column": null,
      "grid_gap": null,
      "grid_row": null,
      "grid_template_areas": null,
      "grid_template_columns": null,
      "grid_template_rows": null,
      "height": null,
      "justify_content": null,
      "justify_items": null,
      "left": null,
      "margin": null,
      "max_height": null,
      "max_width": null,
      "min_height": null,
      "min_width": null,
      "object_fit": null,
      "object_position": null,
      "order": null,
      "overflow": null,
      "overflow_x": null,
      "overflow_y": null,
      "padding": null,
      "right": null,
      "top": null,
      "visibility": null,
      "width": null
     }
    }
   }
  }
 },
 "nbformat": 4,
 "nbformat_minor": 5
}
